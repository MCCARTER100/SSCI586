{
 "cells": [
  {
   "cell_type": "code",
   "execution_count": 76,
   "id": "33f38cd3",
   "metadata": {
    "scrolled": true
   },
   "outputs": [],
   "source": [
    "# Import Required Packages\n",
    "import pandas as pd\n",
    "import geopandas as gpd\n",
    "import csv\n",
    "from csv import writer\n",
    "import requests\n",
    "import json\n",
    "import numpy as np\n",
    "import time\n",
    "import plotly.graph_objects as go\n",
    "import plotly.offline as go_offline"
   ]
  },
  {
   "cell_type": "code",
   "execution_count": 87,
   "id": "76a4197f",
   "metadata": {},
   "outputs": [
    {
     "name": "stdout",
     "output_type": "stream",
     "text": [
      "0   -124.409591\n",
      "Name: minx, dtype: float64 0   -114.131211\n",
      "Name: maxx, dtype: float64 0    32.534156\n",
      "Name: miny, dtype: float64 0    42.009485\n",
      "Name: maxy, dtype: float64\n"
     ]
    }
   ],
   "source": [
    "#Read shapefile and get coordinate bounds\n",
    "vector_file_path=r\"C:\\Users\\Matthew Carter\\Downloads\\Yosemite\\CA.shp\"\n",
    "vector_data=gpd.read_file(vector_file_path)\n",
    "vector_bound_coordinates= vector_data['geometry']\n",
    "minimumx = vector_bound_coordinates.bounds.minx\n",
    "minimumy = vector_bound_coordinates.bounds.miny\n",
    "maximumx = vector_bound_coordinates.bounds.maxx\n",
    "maximumy = vector_bound_coordinates.bounds.maxy\n",
    "print(minimumx, maximumx, minimumy, maximumy)"
   ]
  },
  {
   "cell_type": "code",
   "execution_count": 88,
   "id": "7fef9715",
   "metadata": {},
   "outputs": [
    {
     "data": {
      "text/plain": [
       "list"
      ]
     },
     "execution_count": 88,
     "metadata": {},
     "output_type": "execute_result"
    }
   ],
   "source": [
    "sq_num = 50\n",
    "x_range = np.linspace(start=minimumx, stop=maximumx, num=sq_num)\n",
    "y_range = np.linspace(start=minimumy, stop=maximumy, num=sq_num)\n",
    "y_range_list = y_range.tolist()\n",
    "x_range_list = x_range.tolist()"
   ]
  },
  {
   "cell_type": "code",
   "execution_count": 89,
   "id": "e22b715c",
   "metadata": {},
   "outputs": [
    {
     "name": "stdout",
     "output_type": "stream",
     "text": [
      "50.0\n"
     ]
    }
   ],
   "source": [
    "#create list of x and y values stitched together\n",
    "xy_list = []\n",
    "for x in x_range:\n",
    "    for y in y_range:\n",
    "        yx_val = str(y)+str(x)+\"|\"\n",
    "        yx_val_rep = yx_val.replace(\"[\",\"\").replace(\"][-\",\"-\").replace(\"]\",\"\")\n",
    "        xy_list.append(yx_val_rep)\n",
    "        \n",
    "#turn xy values into a string for passing through the API\n",
    "xy_str=str(xy_list)\n",
    "xy_str_stripped = xy_str.replace(\"'\",\"\").replace(\", \",\"\").replace(\"[\",\"\").replace(\"]\",\"\").replace(\"-\",\",-\")\n",
    "\n",
    "requests_count = xy_str_stripped.count('|')/sq_num\n",
    "print(requests_count)"
   ]
  },
  {
   "cell_type": "code",
   "execution_count": 80,
   "id": "038381e2-bb64-4e3b-8a19-d4290dd1b022",
   "metadata": {},
   "outputs": [],
   "source": [
    "#define function for finding position of character\n",
    "def find_nth_overlapping(haystack, needle, n):\n",
    "    start = haystack.find(needle)\n",
    "    while start >= 0 and n > 1:\n",
    "        start = haystack.find(needle, start+1)\n",
    "        n -= 1\n",
    "    return start"
   ]
  },
  {
   "cell_type": "code",
   "execution_count": 81,
   "id": "7b149ef6-e4ec-4a65-b574-fbcf8d2a7817",
   "metadata": {},
   "outputs": [],
   "source": [
    "def append_list_as_row(file_name, list_of_elem):\n",
    "    # Open file in append mode\n",
    "    with open(file_name, 'a+', newline='') as write_obj:\n",
    "        # Create a writer object from csv module\n",
    "        csv_writer = writer(write_obj)\n",
    "        # Add contents of list as last row in the csv file\n",
    "        csv_writer.writerow(list_of_elem)"
   ]
  },
  {
   "cell_type": "code",
   "execution_count": 82,
   "id": "cb48560f-72fc-4cdf-8db8-7c3ee78d49d6",
   "metadata": {},
   "outputs": [
    {
     "name": "stdout",
     "output_type": "stream",
     "text": [
      "1\n",
      "2\n",
      "3\n",
      "4\n",
      "5\n",
      "6\n",
      "7\n",
      "8\n",
      "9\n",
      "10\n",
      "11\n",
      "12\n",
      "13\n",
      "14\n",
      "15\n",
      "16\n",
      "17\n",
      "18\n",
      "19\n",
      "20\n",
      "21\n",
      "22\n",
      "23\n",
      "24\n",
      "25\n",
      "26\n",
      "27\n",
      "28\n",
      "29\n",
      "30\n",
      "31\n",
      "32\n",
      "33\n",
      "34\n",
      "35\n",
      "36\n",
      "37\n",
      "38\n",
      "39\n",
      "40\n",
      "41\n",
      "42\n",
      "43\n",
      "44\n",
      "45\n",
      "46\n",
      "47\n",
      "48\n",
      "49\n",
      "50\n",
      "API call complete\n"
     ]
    }
   ],
   "source": [
    "API_Count = 0\n",
    "K = \"|\"\n",
    "N = sq_num\n",
    "z_vals = []\n",
    "position = 0\n",
    "first_position = 0\n",
    "xy_str_stripped_copy = xy_str_stripped\n",
    "while API_Count < sq_num:\n",
    "    position = find_nth_overlapping(xy_str_stripped_copy,K,N)\n",
    "    suffix = xy_str_stripped_copy[first_position:position]\n",
    "    first_position = 0+position\n",
    "    time.sleep(1)\n",
    "    N=N+sq_num\n",
    "    elevation_request = \"https://api.opentopodata.org/v1/test-dataset?locations={}\".format(suffix)\n",
    "    r = requests.get(elevation_request)\n",
    "    data = r.json()\n",
    "    for i in data['results']:\n",
    "        z_vals.append(i['elevation'])\n",
    "    append_list_as_row('GA_coords.csv', z_vals)\n",
    "    API_Count = API_Count+1\n",
    "    z_vals = []\n",
    "    print(API_Count)\n",
    "print('API call complete')"
   ]
  },
  {
   "cell_type": "code",
   "execution_count": 98,
   "id": "ee831dcc-f605-478a-a46f-554dfc619c3b",
   "metadata": {},
   "outputs": [
    {
     "data": {
      "text/plain": [
       "'C:/Users/Matthew Carter/Downloads/California_Local.html'"
      ]
     },
     "execution_count": 98,
     "metadata": {},
     "output_type": "execute_result"
    }
   ],
   "source": [
    "# Read data from a csv\n",
    "z_data = pd.read_csv('CA_Coords.csv')\n",
    "fig = go.Figure(data=[go.Surface(z=z_data.values)])\n",
    "\n",
    "fig.update_layout(title='California Elevation', autosize=False,\n",
    "                  width=1000, height=1000,\n",
    "                  margin=dict(l=65, r=50, b=65, t=90))\n",
    "go_offline.plot(fig,filename='C:/Users/Matthew Carter/Downloads/California_Local.html',validate=True, auto_open=True)"
   ]
  },
  {
   "cell_type": "code",
   "execution_count": null,
   "id": "c5ac63c6-4ead-4621-bbf8-74aec8a64f6c",
   "metadata": {},
   "outputs": [],
   "source": []
  }
 ],
 "metadata": {
  "kernelspec": {
   "display_name": "Python 3 (ipykernel)",
   "language": "python",
   "name": "python3"
  },
  "language_info": {
   "codemirror_mode": {
    "name": "ipython",
    "version": 3
   },
   "file_extension": ".py",
   "mimetype": "text/x-python",
   "name": "python",
   "nbconvert_exporter": "python",
   "pygments_lexer": "ipython3",
   "version": "3.9.10"
  }
 },
 "nbformat": 4,
 "nbformat_minor": 5
}
